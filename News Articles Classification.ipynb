{
 "cells": [
  {
   "cell_type": "markdown",
   "id": "ee783172",
   "metadata": {},
   "source": [
    "                                                      Project: News Article Classification\n",
    "                                                      \n",
    "To develop a machine learning model that classifies news articles into predefined categories (e.g., Sports, Politics, Technology) based on their content."
   ]
  },
  {
   "cell_type": "markdown",
   "id": "eac47789",
   "metadata": {},
   "source": [
    "                                        Task-1: Data Collection and Preprocessing\n",
    "Objective Breakdown:\n",
    "\n",
    "Collect a dataset of labeled news articles (e.g., sports, politics, technology).\n",
    "\n",
    "Clean and preprocess the text (headline + short description).\n",
    "\n",
    "Handle missing values.\n"
   ]
  },
  {
   "cell_type": "markdown",
   "id": "53afc13f",
   "metadata": {},
   "source": [
    "Step 1: Load the Dataset"
   ]
  },
  {
   "cell_type": "code",
   "execution_count": 43,
   "id": "dc002122",
   "metadata": {},
   "outputs": [
    {
     "data": {
      "text/html": [
       "<div>\n",
       "<style scoped>\n",
       "    .dataframe tbody tr th:only-of-type {\n",
       "        vertical-align: middle;\n",
       "    }\n",
       "\n",
       "    .dataframe tbody tr th {\n",
       "        vertical-align: top;\n",
       "    }\n",
       "\n",
       "    .dataframe thead th {\n",
       "        text-align: right;\n",
       "    }\n",
       "</style>\n",
       "<table border=\"1\" class=\"dataframe\">\n",
       "  <thead>\n",
       "    <tr style=\"text-align: right;\">\n",
       "      <th></th>\n",
       "      <th>category</th>\n",
       "      <th>headline</th>\n",
       "      <th>links</th>\n",
       "      <th>short_description</th>\n",
       "      <th>keywords</th>\n",
       "    </tr>\n",
       "  </thead>\n",
       "  <tbody>\n",
       "    <tr>\n",
       "      <th>0</th>\n",
       "      <td>WELLNESS</td>\n",
       "      <td>143 Miles in 35 Days: Lessons Learned</td>\n",
       "      <td>https://www.huffingtonpost.com/entry/running-l...</td>\n",
       "      <td>Resting is part of training. I've confirmed wh...</td>\n",
       "      <td>running-lessons</td>\n",
       "    </tr>\n",
       "    <tr>\n",
       "      <th>1</th>\n",
       "      <td>WELLNESS</td>\n",
       "      <td>Talking to Yourself: Crazy or Crazy Helpful?</td>\n",
       "      <td>https://www.huffingtonpost.com/entry/talking-t...</td>\n",
       "      <td>Think of talking to yourself as a tool to coac...</td>\n",
       "      <td>talking-to-yourself-crazy</td>\n",
       "    </tr>\n",
       "    <tr>\n",
       "      <th>2</th>\n",
       "      <td>WELLNESS</td>\n",
       "      <td>Crenezumab: Trial Will Gauge Whether Alzheimer...</td>\n",
       "      <td>https://www.huffingtonpost.com/entry/crenezuma...</td>\n",
       "      <td>The clock is ticking for the United States to ...</td>\n",
       "      <td>crenezumab-alzheimers-disease-drug</td>\n",
       "    </tr>\n",
       "    <tr>\n",
       "      <th>3</th>\n",
       "      <td>WELLNESS</td>\n",
       "      <td>Oh, What a Difference She Made</td>\n",
       "      <td>https://www.huffingtonpost.com/entry/meaningfu...</td>\n",
       "      <td>If you want to be busy, keep trying to be perf...</td>\n",
       "      <td>meaningful-life</td>\n",
       "    </tr>\n",
       "    <tr>\n",
       "      <th>4</th>\n",
       "      <td>WELLNESS</td>\n",
       "      <td>Green Superfoods</td>\n",
       "      <td>https://www.huffingtonpost.com/entry/green-sup...</td>\n",
       "      <td>First, the bad news: Soda bread, corned beef a...</td>\n",
       "      <td>green-superfoods</td>\n",
       "    </tr>\n",
       "  </tbody>\n",
       "</table>\n",
       "</div>"
      ],
      "text/plain": [
       "   category                                           headline  \\\n",
       "0  WELLNESS              143 Miles in 35 Days: Lessons Learned   \n",
       "1  WELLNESS       Talking to Yourself: Crazy or Crazy Helpful?   \n",
       "2  WELLNESS  Crenezumab: Trial Will Gauge Whether Alzheimer...   \n",
       "3  WELLNESS                     Oh, What a Difference She Made   \n",
       "4  WELLNESS                                   Green Superfoods   \n",
       "\n",
       "                                               links  \\\n",
       "0  https://www.huffingtonpost.com/entry/running-l...   \n",
       "1  https://www.huffingtonpost.com/entry/talking-t...   \n",
       "2  https://www.huffingtonpost.com/entry/crenezuma...   \n",
       "3  https://www.huffingtonpost.com/entry/meaningfu...   \n",
       "4  https://www.huffingtonpost.com/entry/green-sup...   \n",
       "\n",
       "                                   short_description  \\\n",
       "0  Resting is part of training. I've confirmed wh...   \n",
       "1  Think of talking to yourself as a tool to coac...   \n",
       "2  The clock is ticking for the United States to ...   \n",
       "3  If you want to be busy, keep trying to be perf...   \n",
       "4  First, the bad news: Soda bread, corned beef a...   \n",
       "\n",
       "                             keywords  \n",
       "0                     running-lessons  \n",
       "1           talking-to-yourself-crazy  \n",
       "2  crenezumab-alzheimers-disease-drug  \n",
       "3                     meaningful-life  \n",
       "4                    green-superfoods  "
      ]
     },
     "execution_count": 43,
     "metadata": {},
     "output_type": "execute_result"
    }
   ],
   "source": [
    "import pandas as pd\n",
    "\n",
    "# Load dataset\n",
    "df = pd.read_csv('data_news.csv')\n",
    "df.head()"
   ]
  },
  {
   "cell_type": "markdown",
   "id": "977bb997",
   "metadata": {},
   "source": [
    "Step-2: Clean the dataset\n",
    "\n",
    "1. We will take only concerned columns dropping not useful columns\n",
    "\n",
    "2. Dropping rows with missing values\n",
    "\n",
    "3. Combining texts into one column for optimised result\n"
   ]
  },
  {
   "cell_type": "code",
   "execution_count": 44,
   "id": "9c9a73d6",
   "metadata": {},
   "outputs": [
    {
     "data": {
      "text/html": [
       "<div>\n",
       "<style scoped>\n",
       "    .dataframe tbody tr th:only-of-type {\n",
       "        vertical-align: middle;\n",
       "    }\n",
       "\n",
       "    .dataframe tbody tr th {\n",
       "        vertical-align: top;\n",
       "    }\n",
       "\n",
       "    .dataframe thead th {\n",
       "        text-align: right;\n",
       "    }\n",
       "</style>\n",
       "<table border=\"1\" class=\"dataframe\">\n",
       "  <thead>\n",
       "    <tr style=\"text-align: right;\">\n",
       "      <th></th>\n",
       "      <th>category</th>\n",
       "      <th>headline</th>\n",
       "      <th>short_description</th>\n",
       "      <th>text</th>\n",
       "    </tr>\n",
       "  </thead>\n",
       "  <tbody>\n",
       "    <tr>\n",
       "      <th>0</th>\n",
       "      <td>WELLNESS</td>\n",
       "      <td>143 Miles in 35 Days: Lessons Learned</td>\n",
       "      <td>Resting is part of training. I've confirmed wh...</td>\n",
       "      <td>143 Miles in 35 Days: Lessons Learned Resting ...</td>\n",
       "    </tr>\n",
       "    <tr>\n",
       "      <th>1</th>\n",
       "      <td>WELLNESS</td>\n",
       "      <td>Talking to Yourself: Crazy or Crazy Helpful?</td>\n",
       "      <td>Think of talking to yourself as a tool to coac...</td>\n",
       "      <td>Talking to Yourself: Crazy or Crazy Helpful? T...</td>\n",
       "    </tr>\n",
       "    <tr>\n",
       "      <th>2</th>\n",
       "      <td>WELLNESS</td>\n",
       "      <td>Crenezumab: Trial Will Gauge Whether Alzheimer...</td>\n",
       "      <td>The clock is ticking for the United States to ...</td>\n",
       "      <td>Crenezumab: Trial Will Gauge Whether Alzheimer...</td>\n",
       "    </tr>\n",
       "    <tr>\n",
       "      <th>3</th>\n",
       "      <td>WELLNESS</td>\n",
       "      <td>Oh, What a Difference She Made</td>\n",
       "      <td>If you want to be busy, keep trying to be perf...</td>\n",
       "      <td>Oh, What a Difference She Made If you want to ...</td>\n",
       "    </tr>\n",
       "    <tr>\n",
       "      <th>4</th>\n",
       "      <td>WELLNESS</td>\n",
       "      <td>Green Superfoods</td>\n",
       "      <td>First, the bad news: Soda bread, corned beef a...</td>\n",
       "      <td>Green Superfoods First, the bad news: Soda bre...</td>\n",
       "    </tr>\n",
       "  </tbody>\n",
       "</table>\n",
       "</div>"
      ],
      "text/plain": [
       "   category                                           headline  \\\n",
       "0  WELLNESS              143 Miles in 35 Days: Lessons Learned   \n",
       "1  WELLNESS       Talking to Yourself: Crazy or Crazy Helpful?   \n",
       "2  WELLNESS  Crenezumab: Trial Will Gauge Whether Alzheimer...   \n",
       "3  WELLNESS                     Oh, What a Difference She Made   \n",
       "4  WELLNESS                                   Green Superfoods   \n",
       "\n",
       "                                   short_description  \\\n",
       "0  Resting is part of training. I've confirmed wh...   \n",
       "1  Think of talking to yourself as a tool to coac...   \n",
       "2  The clock is ticking for the United States to ...   \n",
       "3  If you want to be busy, keep trying to be perf...   \n",
       "4  First, the bad news: Soda bread, corned beef a...   \n",
       "\n",
       "                                                text  \n",
       "0  143 Miles in 35 Days: Lessons Learned Resting ...  \n",
       "1  Talking to Yourself: Crazy or Crazy Helpful? T...  \n",
       "2  Crenezumab: Trial Will Gauge Whether Alzheimer...  \n",
       "3  Oh, What a Difference She Made If you want to ...  \n",
       "4  Green Superfoods First, the bad news: Soda bre...  "
      ]
     },
     "execution_count": 44,
     "metadata": {},
     "output_type": "execute_result"
    }
   ],
   "source": [
    "# Select only required columns\n",
    "df = df[['category', 'headline', 'short_description']]\n",
    "\n",
    "# Drop rows with missing values\n",
    "df.dropna(inplace=True)\n",
    "\n",
    "# Combine headline + short_description into one text column\n",
    "df['text'] = df['headline'] + \" \" + df['short_description']\n",
    "\n",
    "# View sample\n",
    "df.head()\n"
   ]
  },
  {
   "cell_type": "markdown",
   "id": "402df463",
   "metadata": {},
   "source": [
    " Step 3: Preprocess the Text Data\n",
    "\n",
    "We will follow below steps\n",
    "\n",
    "1. Convert text to lowercase\n",
    "\n",
    "2. Remove punctuation, digits\n",
    "\n",
    "3. Remove stopwords\n",
    "\n",
    "4. Lemmatize words"
   ]
  },
  {
   "cell_type": "code",
   "execution_count": 45,
   "id": "1d48dfd3",
   "metadata": {},
   "outputs": [
    {
     "name": "stderr",
     "output_type": "stream",
     "text": [
      "[nltk_data] Downloading package stopwords to\n",
      "[nltk_data]     C:\\Users\\HP\\AppData\\Roaming\\nltk_data...\n",
      "[nltk_data]   Package stopwords is already up-to-date!\n",
      "[nltk_data] Downloading package wordnet to\n",
      "[nltk_data]     C:\\Users\\HP\\AppData\\Roaming\\nltk_data...\n",
      "[nltk_data]   Package wordnet is already up-to-date!\n"
     ]
    },
    {
     "data": {
      "text/html": [
       "<div>\n",
       "<style scoped>\n",
       "    .dataframe tbody tr th:only-of-type {\n",
       "        vertical-align: middle;\n",
       "    }\n",
       "\n",
       "    .dataframe tbody tr th {\n",
       "        vertical-align: top;\n",
       "    }\n",
       "\n",
       "    .dataframe thead th {\n",
       "        text-align: right;\n",
       "    }\n",
       "</style>\n",
       "<table border=\"1\" class=\"dataframe\">\n",
       "  <thead>\n",
       "    <tr style=\"text-align: right;\">\n",
       "      <th></th>\n",
       "      <th>category</th>\n",
       "      <th>clean_text</th>\n",
       "    </tr>\n",
       "  </thead>\n",
       "  <tbody>\n",
       "    <tr>\n",
       "      <th>0</th>\n",
       "      <td>WELLNESS</td>\n",
       "      <td>mile day lesson learned resting part training ...</td>\n",
       "    </tr>\n",
       "    <tr>\n",
       "      <th>1</th>\n",
       "      <td>WELLNESS</td>\n",
       "      <td>talking crazy crazy helpful think talking tool...</td>\n",
       "    </tr>\n",
       "    <tr>\n",
       "      <th>2</th>\n",
       "      <td>WELLNESS</td>\n",
       "      <td>crenezumab trial gauge whether alzheimers drug...</td>\n",
       "    </tr>\n",
       "    <tr>\n",
       "      <th>3</th>\n",
       "      <td>WELLNESS</td>\n",
       "      <td>oh difference made want busy keep trying perfe...</td>\n",
       "    </tr>\n",
       "    <tr>\n",
       "      <th>4</th>\n",
       "      <td>WELLNESS</td>\n",
       "      <td>green superfoods first bad news soda bread cor...</td>\n",
       "    </tr>\n",
       "  </tbody>\n",
       "</table>\n",
       "</div>"
      ],
      "text/plain": [
       "   category                                         clean_text\n",
       "0  WELLNESS  mile day lesson learned resting part training ...\n",
       "1  WELLNESS  talking crazy crazy helpful think talking tool...\n",
       "2  WELLNESS  crenezumab trial gauge whether alzheimers drug...\n",
       "3  WELLNESS  oh difference made want busy keep trying perfe...\n",
       "4  WELLNESS  green superfoods first bad news soda bread cor..."
      ]
     },
     "execution_count": 45,
     "metadata": {},
     "output_type": "execute_result"
    }
   ],
   "source": [
    "import re\n",
    "import nltk\n",
    "from nltk.corpus import stopwords\n",
    "from nltk.stem import WordNetLemmatizer\n",
    "\n",
    "# Download NLTK data (run once)\n",
    "nltk.download('stopwords')\n",
    "nltk.download('wordnet')\n",
    "\n",
    "stop_words = set(stopwords.words('english'))\n",
    "lemmatizer = WordNetLemmatizer()\n",
    "\n",
    "def preprocess(text):\n",
    "    text = text.lower()\n",
    "    text = re.sub(r'\\d+', '', text)  # Remove numbers\n",
    "    text = re.sub(r'[^\\w\\s]', '', text)  # Remove punctuation\n",
    "    tokens = text.split()\n",
    "    tokens = [lemmatizer.lemmatize(word) for word in tokens if word not in stop_words]\n",
    "    return ' '.join(tokens)\n",
    "\n",
    "# Apply preprocessing\n",
    "df['clean_text'] = df['text'].apply(preprocess)\n",
    "\n",
    "# Show preprocessed text\n",
    "df[['category', 'clean_text']].head()\n"
   ]
  },
  {
   "cell_type": "markdown",
   "id": "7d4d83fa",
   "metadata": {},
   "source": [
    "                                             Task-2: Feature Extraction\n",
    "\n",
    "Objective Breakdown:\n",
    "\n",
    "1. Convert text to numerical features using:\n",
    "\n",
    "TF-IDF\n",
    "\n",
    "Word2Vec\n",
    "\n",
    "Bag-of-Words\n",
    "\n",
    "2. Perform EDA to understand category distribution.                                             "
   ]
  },
  {
   "cell_type": "markdown",
   "id": "6950b0e6",
   "metadata": {},
   "source": [
    "Step 1: TF-IDF Feature Extraction\n",
    "\n",
    "TF-IDF (Term Frequency-Inverse Document Frequency) helps convert text into meaningful numerical vectors while reducing the importance of common words."
   ]
  },
  {
   "cell_type": "code",
   "execution_count": 46,
   "id": "cce756b8",
   "metadata": {},
   "outputs": [],
   "source": [
    "from sklearn.feature_extraction.text import TfidfVectorizer\n",
    "\n",
    "# TF-IDF vectorization\n",
    "tfidf = TfidfVectorizer(max_features=5000)  # Limit to top 5000 words\n",
    "X_tfidf = tfidf.fit_transform(df['clean_text'])   # Features\n",
    "y = df['category']                          # Labels\n"
   ]
  },
  {
   "cell_type": "markdown",
   "id": "afe75058",
   "metadata": {},
   "source": [
    "X: Numerical features (sparse matrix)\n",
    "\n",
    "y: Target labels (sports, politics, technology...)"
   ]
  },
  {
   "cell_type": "markdown",
   "id": "98815af8",
   "metadata": {},
   "source": [
    "Step-2: Bag-of-Words (BoW) Method for Feature Extraction\n",
    "\n",
    "Bag-of-Words is a method of converting text into fixed-length numerical feature vectors.\n",
    "\n",
    "It counts how many times each word appears in a document.\n",
    "\n",
    "Unlike TF-IDF, it does not consider word importance or rarity — just frequency."
   ]
  },
  {
   "cell_type": "code",
   "execution_count": 13,
   "id": "50ba9bb2",
   "metadata": {},
   "outputs": [],
   "source": [
    "from sklearn.feature_extraction.text import CountVectorizer\n",
    "\n",
    "# Initialize vectorizer\n",
    "bow = CountVectorizer(max_features=5000)  # Top 5000 words only\n",
    "\n",
    "# Fit and transform clean text\n",
    "X_bow = bow.fit_transform(df['clean_text'])\n",
    "\n",
    "# Target labels\n",
    "y = df['category']\n"
   ]
  },
  {
   "cell_type": "markdown",
   "id": "fa0a6f59",
   "metadata": {},
   "source": [
    "X_bow is a sparse matrix where each row is a document and each column is a word from the vocabulary.\n",
    "\n",
    "max_features=5000 ensures only the most frequent 5000 words are considered."
   ]
  },
  {
   "cell_type": "code",
   "execution_count": 49,
   "id": "5ed4d447",
   "metadata": {},
   "outputs": [
    {
     "name": "stdout",
     "output_type": "stream",
     "text": [
      "BoW Feature Matrix Shape: (50000, 5000)\n",
      "Sample Features (Words): ['aaron' 'abandoned' 'abc' 'ability' 'able' 'aboard' 'abortion' 'abroad'\n",
      " 'absence' 'absolute' 'absolutely' 'abundance' 'abuse' 'academic'\n",
      " 'academy' 'accept' 'acceptable' 'acceptance' 'access' 'accessory']\n"
     ]
    }
   ],
   "source": [
    "print(\"BoW Feature Matrix Shape:\", X_bow.shape)\n",
    "print(\"Sample Features (Words):\", bow.get_feature_names_out()[:20])\n"
   ]
  },
  {
   "cell_type": "markdown",
   "id": "3a36e610",
   "metadata": {},
   "source": [
    "Step-3: Feature Extraction Using Word2Vec (with Gensim)\n",
    "\n"
   ]
  },
  {
   "cell_type": "code",
   "execution_count": null,
   "id": "84ffcc81",
   "metadata": {},
   "outputs": [],
   "source": [
    "from gensim.models import Word2Vec\n",
    "import numpy as np\n",
    "\n"
   ]
  },
  {
   "cell_type": "markdown",
   "id": "05dc27a7",
   "metadata": {},
   "source": [
    "Step-3(a): Tokenize the Clean Text"
   ]
  },
  {
   "cell_type": "code",
   "execution_count": 8,
   "id": "789b58a6",
   "metadata": {},
   "outputs": [],
   "source": [
    "# Tokenize the cleaned text\n",
    "df['tokens'] = df['clean_text'].apply(lambda x: x.split())\n"
   ]
  },
  {
   "cell_type": "markdown",
   "id": "275cc61b",
   "metadata": {},
   "source": [
    "Step 3(b): Train Word2Vec Model"
   ]
  },
  {
   "cell_type": "code",
   "execution_count": 9,
   "id": "9924c479",
   "metadata": {},
   "outputs": [
    {
     "name": "stderr",
     "output_type": "stream",
     "text": [
      "C:\\Users\\HP\\AppData\\Local\\Temp\\ipykernel_7388\\2134044885.py:5: DeprecationWarning: Call to deprecated `init_sims` (Gensim 4.0.0 implemented internal optimizations that make calls to init_sims() unnecessary. init_sims() is now obsoleted and will be completely removed in future versions. See https://github.com/RaRe-Technologies/gensim/wiki/Migrating-from-Gensim-3.x-to-4).\n",
      "  w2v_model.init_sims(replace=True)\n"
     ]
    }
   ],
   "source": [
    "# Train Word2Vec on your own corpus\n",
    "w2v_model = Word2Vec(sentences=df['tokens'], vector_size=100, window=5, min_count=2, workers=4)\n",
    "\n",
    "# Save memory\n",
    "w2v_model.init_sims(replace=True)\n"
   ]
  },
  {
   "cell_type": "markdown",
   "id": "1a1c7d2e",
   "metadata": {},
   "source": [
    "Step-3(c): Create Document Vectors by Averaging Word Vectors"
   ]
  },
  {
   "cell_type": "code",
   "execution_count": 10,
   "id": "23ad8808",
   "metadata": {},
   "outputs": [],
   "source": [
    "def document_vector(doc):\n",
    "    doc = [word for word in doc if word in w2v_model.wv.key_to_index]\n",
    "    if len(doc) == 0:\n",
    "        return np.zeros(100)\n",
    "    return np.mean(w2v_model.wv[doc], axis=0)\n",
    "\n",
    "# Convert each article into a 100-dim vector\n",
    "X_w2v = np.array([document_vector(tokens) for tokens in df['tokens']])\n",
    "y = df['category']\n"
   ]
  },
  {
   "cell_type": "markdown",
   "id": "5f5d0058",
   "metadata": {},
   "source": [
    "Step-4: Exploratory Data Analysis (EDA)"
   ]
  },
  {
   "cell_type": "markdown",
   "id": "5b856c04",
   "metadata": {},
   "source": [
    " 1. Category Distribution\n",
    " \n",
    "Visualize how many samples exist in each category."
   ]
  },
  {
   "cell_type": "code",
   "execution_count": 39,
   "id": "18941b61",
   "metadata": {},
   "outputs": [
    {
     "data": {
      "image/png": "[encoded data removed]",
      "text/plain": [
       "<Figure size 1000x600 with 1 Axes>"
      ]
     },
     "metadata": {},
     "output_type": "display_data"
    }
   ],
   "source": [
    "import seaborn as sns\n",
    "import matplotlib.pyplot as plt\n",
    "\n",
    "plt.figure(figsize=(10, 6))\n",
    "sns.countplot(y='category', data=df, order=df['category'].value_counts().index)\n",
    "plt.title(\"News Category Distribution\")\n",
    "plt.xlabel(\"Count\")\n",
    "plt.ylabel(\"Category\")\n",
    "plt.tight_layout()\n",
    "plt.show()"
   ]
  },
  {
   "cell_type": "markdown",
   "id": "becffca9",
   "metadata": {},
   "source": [
    "2. Top Words per Category\n",
    "\n",
    "We can also check the most common words per category:\n"
   ]
  },
  {
   "cell_type": "code",
   "execution_count": 48,
   "id": "0c75b5ce",
   "metadata": {},
   "outputs": [
    {
     "data": {
      "text/plain": [
       "[]"
      ]
     },
     "execution_count": 48,
     "metadata": {},
     "output_type": "execute_result"
    }
   ],
   "source": [
    "from collections import Counter\n",
    "\n",
    "def top_words_per_category(df, category_name, n=10):\n",
    "    text = ' '.join(df[df['category'] == category_name]['clean_text'])\n",
    "    words = text.split()\n",
    "    most_common = Counter(words).most_common(n)\n",
    "    return most_common\n",
    "\n",
    "# Example: Top words in 'politics'\n",
    "top_words_per_category(df, 'politics')\n"
   ]
  },
  {
   "cell_type": "markdown",
   "id": "8e0d621a",
   "metadata": {},
   "source": [
    "                                         Task-3: Model Development and Training\n",
    "Model Selection:\n",
    "\n",
    "We chose three widely used classification algorithms for text data:\n",
    "\n",
    "Logistic Regression\n",
    "\n",
    "Naive Bayes (MultinomialNB)\n",
    "\n",
    "Support Vector Machines (SVM) — specifically LinearSVC for efficiency\n",
    "\n"
   ]
  },
  {
   "cell_type": "markdown",
   "id": "8064e348",
   "metadata": {},
   "source": [
    "Step-1: Splitting the data for training and testing using  TF-IDF, Word2Vec, and Bag of Words."
   ]
  },
  {
   "cell_type": "code",
   "execution_count": 15,
   "id": "572eacd3",
   "metadata": {},
   "outputs": [],
   "source": [
    "from sklearn.model_selection import train_test_split\n",
    "\n",
    "X_train_tfidf, X_test_tfidf, y_train, y_test = train_test_split(X_tfidf, y, test_size=0.2, random_state=42)\n",
    "X_train_bow, X_test_bow, _, _ = train_test_split(X_bow, y, test_size=0.2, random_state=42)\n",
    "X_train_w2v, X_test_w2v, _, _ = train_test_split(X_w2v, y, test_size=0.2, random_state=42)\n"
   ]
  },
  {
   "cell_type": "markdown",
   "id": "86f1413e",
   "metadata": {},
   "source": [
    "Step-2: Training the data using multiple algorithms"
   ]
  },
  {
   "cell_type": "markdown",
   "id": "1b102437",
   "metadata": {},
   "source": [
    "2(a). Logistic Regression(TF-IDF, BoW, Word2Vec)"
   ]
  },
  {
   "cell_type": "code",
   "execution_count": null,
   "id": "5d93d85a",
   "metadata": {},
   "outputs": [
    {
     "name": "stdout",
     "output_type": "stream",
     "text": [
      "\n",
      " Logistic Regression Evaluation Metrics:\n",
      "          Accuracy  Precision    Recall  F1-Score\n",
      "TF-IDF      0.7987   0.799408  0.799036  0.798902\n",
      "BoW         0.7849   0.784610  0.785504  0.784682\n",
      "Word2Vec    0.5016   0.498733  0.500779  0.498446\n"
     ]
    }
   ],
   "source": [
    "from sklearn.metrics import accuracy_score, precision_score, recall_score, f1_score\n",
    "from sklearn.linear_model import LogisticRegression\n",
    "\n",
    "# Dictionary to store results\n",
    "lr_results = {}\n",
    "\n",
    "# --- TF-IDF ---\n",
    "lr_tfidf = LogisticRegression(max_iter=1000)\n",
    "lr_tfidf.fit(X_train_tfidf, y_train)\n",
    "y_pred_tfidf = lr_tfidf.predict(X_test_tfidf)\n",
    "lr_results[\"TF-IDF\"] = {\n",
    "    \"Accuracy\": accuracy_score(y_test, y_pred_tfidf),\n",
    "    \"Precision\": precision_score(y_test, y_pred_tfidf, average='macro'),\n",
    "    \"Recall\": recall_score(y_test, y_pred_tfidf, average='macro'),\n",
    "    \"F1-Score\": f1_score(y_test, y_pred_tfidf, average='macro')\n",
    "}\n",
    "\n",
    "# --- BoW ---\n",
    "lr_bow = LogisticRegression(max_iter=1000)\n",
    "lr_bow.fit(X_train_bow, y_train)\n",
    "y_pred_bow = lr_bow.predict(X_test_bow)\n",
    "lr_results[\"BoW\"] = {\n",
    "    \"Accuracy\": accuracy_score(y_test, y_pred_bow),\n",
    "    \"Precision\": precision_score(y_test, y_pred_bow, average='macro'),\n",
    "    \"Recall\": recall_score(y_test, y_pred_bow, average='macro'),\n",
    "    \"F1-Score\": f1_score(y_test, y_pred_bow, average='macro')\n",
    "}\n",
    "\n",
    "# --- Word2Vec ---\n",
    "lr_w2v = LogisticRegression(max_iter=1000)\n",
    "lr_w2v.fit(X_train_w2v, y_train)\n",
    "y_pred_w2v = lr_w2v.predict(X_test_w2v)\n",
    "lr_results[\"Word2Vec\"] = {\n",
    "    \"Accuracy\": accuracy_score(y_test, y_pred_w2v),\n",
    "    \"Precision\": precision_score(y_test, y_pred_w2v, average='macro'),\n",
    "    \"Recall\": recall_score(y_test, y_pred_w2v, average='macro'),\n",
    "    \"F1-Score\": f1_score(y_test, y_pred_w2v, average='macro')\n",
    "}\n",
    "\n",
    "# === Show Results in Table ===\n",
    "\n",
    "lr_results_df = pd.DataFrame(lr_results).T\n",
    "print(\"\\n Logistic Regression Evaluation Metrics:\")\n",
    "print(lr_results_df)\n"
   ]
  },
  {
   "cell_type": "markdown",
   "id": "a31d9e9f",
   "metadata": {},
   "source": [
    "2(b). Naive Bayes Classigication (TF-IDF, BoW, Word2Vec)"
   ]
  },
  {
   "cell_type": "code",
   "execution_count": null,
   "id": "5fe97454",
   "metadata": {},
   "outputs": [
    {
     "name": "stdout",
     "output_type": "stream",
     "text": [
      "\n",
      " Naive Bayes Evaluation Metrics:\n",
      "          Accuracy  Precision    Recall  F1-Score\n",
      "TF-IDF      0.7811   0.782278  0.781172  0.781335\n",
      "BoW         0.7822   0.783247  0.782157  0.782476\n",
      "Word2Vec    0.3975   0.399812  0.396567  0.390041\n"
     ]
    }
   ],
   "source": [
    "from sklearn.naive_bayes import MultinomialNB, GaussianNB\n",
    "from sklearn.metrics import accuracy_score, precision_score, recall_score, f1_score\n",
    "\n",
    "# Dictionary to store results\n",
    "nb_results = {}\n",
    "\n",
    "# --- TF-IDF ---\n",
    "nb_tfidf = MultinomialNB()\n",
    "nb_tfidf.fit(X_train_tfidf, y_train)\n",
    "y_pred_tfidf = nb_tfidf.predict(X_test_tfidf)\n",
    "nb_results[\"TF-IDF\"] = {\n",
    "    \"Accuracy\": accuracy_score(y_test, y_pred_tfidf),\n",
    "    \"Precision\": precision_score(y_test, y_pred_tfidf, average='macro'),\n",
    "    \"Recall\": recall_score(y_test, y_pred_tfidf, average='macro'),\n",
    "    \"F1-Score\": f1_score(y_test, y_pred_tfidf, average='macro')\n",
    "}\n",
    "\n",
    "# --- BoW ---\n",
    "nb_bow = MultinomialNB()\n",
    "nb_bow.fit(X_train_bow, y_train)\n",
    "y_pred_bow = nb_bow.predict(X_test_bow)\n",
    "nb_results[\"BoW\"] = {\n",
    "    \"Accuracy\": accuracy_score(y_test, y_pred_bow),\n",
    "    \"Precision\": precision_score(y_test, y_pred_bow, average='macro'),\n",
    "    \"Recall\": recall_score(y_test, y_pred_bow, average='macro'),\n",
    "    \"F1-Score\": f1_score(y_test, y_pred_bow, average='macro')\n",
    "}\n",
    "\n",
    "# --- Word2Vec ---\n",
    "nb_w2v = GaussianNB()\n",
    "nb_w2v.fit(X_train_w2v, y_train)\n",
    "y_pred_w2v = nb_w2v.predict(X_test_w2v)\n",
    "nb_results[\"Word2Vec\"] = {\n",
    "    \"Accuracy\": accuracy_score(y_test, y_pred_w2v),\n",
    "    \"Precision\": precision_score(y_test, y_pred_w2v, average='macro'),\n",
    "    \"Recall\": recall_score(y_test, y_pred_w2v, average='macro'),\n",
    "    \"F1-Score\": f1_score(y_test, y_pred_w2v, average='macro')\n",
    "}\n",
    "\n",
    "# === Show Results in Table ===\n",
    "\n",
    "nb_results_df = pd.DataFrame(nb_results).T\n",
    "print(\"\\n Naive Bayes Evaluation Metrics:\")\n",
    "print(nb_results_df)\n"
   ]
  },
  {
   "cell_type": "markdown",
   "id": "eb9bb561",
   "metadata": {},
   "source": [
    "2(c). Support Vector Machine (SVM) Classification (TF-IDF, BoW, Word2Vec)"
   ]
  },
  {
   "cell_type": "code",
   "execution_count": 22,
   "id": "175f404b",
   "metadata": {},
   "outputs": [
    {
     "name": "stdout",
     "output_type": "stream",
     "text": [
      "\n",
      " SVM Evaluation Metrics:\n",
      "          Accuracy  Precision    Recall  F1-Score\n",
      "TF-IDF      0.7911   0.790905  0.791562  0.790838\n",
      "BoW         0.7563   0.755325  0.757068  0.755672\n",
      "Word2Vec    0.5419   0.544921  0.541302  0.540819\n"
     ]
    }
   ],
   "source": [
    "from sklearn.svm import LinearSVC, SVC\n",
    "from sklearn.metrics import accuracy_score, precision_score, recall_score, f1_score\n",
    "\n",
    "# Dictionary to store results\n",
    "svm_results = {}\n",
    "\n",
    "# --- TF-IDF ---\n",
    "svm_tfidf = LinearSVC()\n",
    "svm_tfidf.fit(X_train_tfidf, y_train)\n",
    "y_pred_tfidf = svm_tfidf.predict(X_test_tfidf)\n",
    "svm_results[\"TF-IDF\"] = {\n",
    "    \"Accuracy\": accuracy_score(y_test, y_pred_tfidf),\n",
    "    \"Precision\": precision_score(y_test, y_pred_tfidf, average='macro'),\n",
    "    \"Recall\": recall_score(y_test, y_pred_tfidf, average='macro'),\n",
    "    \"F1-Score\": f1_score(y_test, y_pred_tfidf, average='macro')\n",
    "}\n",
    "\n",
    "# --- BoW ---\n",
    "svm_bow = LinearSVC()\n",
    "svm_bow.fit(X_train_bow, y_train)\n",
    "y_pred_bow = svm_bow.predict(X_test_bow)\n",
    "svm_results[\"BoW\"] = {\n",
    "    \"Accuracy\": accuracy_score(y_test, y_pred_bow),\n",
    "    \"Precision\": precision_score(y_test, y_pred_bow, average='macro'),\n",
    "    \"Recall\": recall_score(y_test, y_pred_bow, average='macro'),\n",
    "    \"F1-Score\": f1_score(y_test, y_pred_bow, average='macro')\n",
    "}\n",
    "\n",
    "# --- Word2Vec ---\n",
    "svm_w2v = SVC()  # Use kernel-based SVC for dense vectors\n",
    "svm_w2v.fit(X_train_w2v, y_train)\n",
    "y_pred_w2v = svm_w2v.predict(X_test_w2v)\n",
    "svm_results[\"Word2Vec\"] = {\n",
    "    \"Accuracy\": accuracy_score(y_test, y_pred_w2v),\n",
    "    \"Precision\": precision_score(y_test, y_pred_w2v, average='macro'),\n",
    "    \"Recall\": recall_score(y_test, y_pred_w2v, average='macro'),\n",
    "    \"F1-Score\": f1_score(y_test, y_pred_w2v, average='macro')\n",
    "}\n",
    "\n",
    "# === Show Results in Table ===\n",
    "\n",
    "svm_results_df = pd.DataFrame(svm_results).T\n",
    "print(\"\\n SVM Evaluation Metrics:\")\n",
    "print(svm_results_df)\n"
   ]
  },
  {
   "cell_type": "markdown",
   "id": "98672570",
   "metadata": {},
   "source": [
    "Step-3: Evaluation Table before Hyperparameter Tuning:"
   ]
  },
  {
   "cell_type": "code",
   "execution_count": 37,
   "id": "7d6a1a97",
   "metadata": {},
   "outputs": [
    {
     "name": "stdout",
     "output_type": "stream",
     "text": [
      "\n",
      " Combined Model Comparison Across Features:\n",
      "                 Model   Feature  Accuracy  Precision  Recall  F1-Score\n",
      "0  Logistic Regression    TF-IDF    0.7987     0.7994  0.7990    0.7989\n",
      "1  Logistic Regression       BoW    0.7849     0.7846  0.7855    0.7847\n",
      "2  Logistic Regression  Word2Vec    0.5016     0.4987  0.5008    0.4984\n",
      "3          Naive Bayes    TF-IDF    0.7811     0.7823  0.7812    0.7813\n",
      "4          Naive Bayes       BoW    0.7822     0.7832  0.7822    0.7825\n",
      "5          Naive Bayes  Word2Vec    0.3975     0.3998  0.3966    0.3900\n",
      "6                  SVM    TF-IDF    0.7911     0.7909  0.7916    0.7908\n",
      "7                  SVM       BoW    0.7563     0.7553  0.7571    0.7557\n",
      "8                  SVM  Word2Vec    0.5419     0.5449  0.5413    0.5408\n"
     ]
    }
   ],
   "source": [
    "\n",
    "lr_results_df[\"Model\"] = \"Logistic Regression\"\n",
    "nb_results_df[\"Model\"] = \"Naive Bayes\"\n",
    "svm_results_df[\"Model\"] = \"SVM\"\n",
    "\n",
    "\n",
    "lr_results_df[\"Feature\"] = lr_results_df.index\n",
    "nb_results_df[\"Feature\"] = nb_results_df.index\n",
    "svm_results_df[\"Feature\"] = svm_results_df.index\n",
    "\n",
    "\n",
    "combined_df = pd.concat([lr_results_df, nb_results_df, svm_results_df], ignore_index=True)\n",
    "combined_df = combined_df[[\"Model\", \"Feature\", \"Accuracy\", \"Precision\", \"Recall\", \"F1-Score\"]]\n",
    "\n",
    "# Show comparison\n",
    "print(\"\\n Combined Model Comparison Across Features:\")\n",
    "print(combined_df.round(4))\n"
   ]
  },
  {
   "cell_type": "markdown",
   "id": "1501f9c5",
   "metadata": {},
   "source": [
    "Step-4: Hyperparameter Tuning and Cross Validation.\n",
    "\n",
    "We have performed Hyperparameter Tuning and Cross Validation on TF-IDF trained model because they have obtained highest performance among all."
   ]
  },
  {
   "cell_type": "markdown",
   "id": "4167b5ea",
   "metadata": {},
   "source": [
    "4(a). Logistic Regression + TF-IDF: Hyperparameter Tuning"
   ]
  },
  {
   "cell_type": "code",
   "execution_count": null,
   "id": "f0c34e2a",
   "metadata": {},
   "outputs": [
    {
     "name": "stdout",
     "output_type": "stream",
     "text": [
      "\n",
      "✅ Logistic Regression (TF-IDF) Best Params: {'C': 1, 'penalty': 'l2', 'solver': 'saga'}\n",
      "Best CV F1 Score: 0.7927103431453478\n",
      "Test Accuracy: 0.7981\n",
      "Test F1 Score: 0.7983084977490259\n"
     ]
    }
   ],
   "source": [
    "from sklearn.linear_model import LogisticRegression\n",
    "from sklearn.model_selection import GridSearchCV\n",
    "\n",
    "param_grid_lr = {\n",
    "    'C': [0.01, 0.1, 1, 10],             # Regularization strength\n",
    "    'solver': ['liblinear', 'saga'],     # Solvers that support 'l2'\n",
    "    'penalty': ['l2']\n",
    "}\n",
    "\n",
    "grid_lr = GridSearchCV(LogisticRegression(max_iter=1000), param_grid_lr, cv=5, scoring='f1_macro', n_jobs=-1)\n",
    "grid_lr.fit(X_train_tfidf, y_train)\n",
    "\n",
    "# Evaluation\n",
    "from sklearn.metrics import classification_report, accuracy_score, precision_score, recall_score, f1_score\n",
    "\n",
    "y_pred_lr = grid_lr.predict(X_test_tfidf)\n",
    "\n",
    "print(\"\\n Logistic Regression (TF-IDF) Best Params:\", grid_lr.best_params_)\n",
    "print(\"Best Score based on Cross Validation(CV):\", grid_lr.best_score_)\n",
    "print(\"Test Metrics - Accuracy:\", accuracy_score(y_test, y_pred_lr), \n",
    "      \"Precision:\", precision_score(y_test, y_pred_lr, average='macro'), \n",
    "      \"Recall:\", recall_score(y_test, y_pred_lr, average='macro'), \n",
    "      \"F1:\", f1_score(y_test, y_pred_lr, average='macro'))\n",
    "\n"
   ]
  },
  {
   "cell_type": "markdown",
   "id": "c305b64d",
   "metadata": {},
   "source": [
    "4(b). Naive Bayes + TF-IDF: Hyperparameter Tuning"
   ]
  },
  {
   "cell_type": "code",
   "execution_count": null,
   "id": "af6a07b7",
   "metadata": {},
   "outputs": [
    {
     "name": "stdout",
     "output_type": "stream",
     "text": [
      "\n",
      " Naive Bayes (TF-IDF) Best Params: {'alpha': 1.0}\n",
      "Best CV F1 Score: 0.7807707982461938\n",
      "Test Accuracy: 0.7811\n",
      "Test F1 Score: 0.7813345751728102\n"
     ]
    }
   ],
   "source": [
    "from sklearn.naive_bayes import MultinomialNB\n",
    "\n",
    "param_grid_nb = {\n",
    "    'alpha': [0.01, 0.1, 0.5, 1.0]  # Smoothing parameter\n",
    "}\n",
    "\n",
    "grid_nb = GridSearchCV(MultinomialNB(), param_grid_nb, cv=5, scoring='f1_macro', n_jobs=-1)\n",
    "grid_nb.fit(X_train_tfidf, y_train)\n",
    "\n",
    "y_pred_nb = grid_nb.predict(X_test_tfidf)\n",
    "\n",
    "print(\"\\n Naive Bayes (TF-IDF) Best Params:\", grid_nb.best_params_)\n",
    "print(\"Best Score based on Cross Validation(CV):\", grid_nb.best_score_)\n",
    "print(\"Test Metrics - Accuracy:\", accuracy_score(y_test, y_pred_nb), \n",
    "      \"Precision:\", precision_score(y_test, y_pred_nb, average='macro'), \n",
    "      \"Recall:\", recall_score(y_test, y_pred_nb, average='macro'), \n",
    "      \"F1:\", f1_score(y_test, y_pred_nb, average='macro'))\n",
    "\n"
   ]
  },
  {
   "cell_type": "markdown",
   "id": "5e5324b1",
   "metadata": {},
   "source": [
    "4(c). Hyperparameter Tuning: LinearSVC + TF-IDF"
   ]
  },
  {
   "cell_type": "code",
   "execution_count": 34,
   "id": "374c1a9b",
   "metadata": {},
   "outputs": [
    {
     "name": "stdout",
     "output_type": "stream",
     "text": [
      "Best LinearSVC Params: {'C': 0.1}\n",
      "Best Score based on Cross Validation(CV): 0.7944733799650716\n",
      "Test Accuracy: 0.8013\n",
      "Test Precision: 0.8013876452457241\n",
      "Test Recall: 0.8015525250767805\n",
      "Test F1 Score: 0.8010647855016382\n"
     ]
    }
   ],
   "source": [
    "# --- Define Grid ---\n",
    "param_grid_linear_svc = {\n",
    "    'C': [0.01, 0.1, 1, 10]\n",
    "}\n",
    "\n",
    "# --- Grid Search ---\n",
    "grid_linear_svc = GridSearchCV(LinearSVC(max_iter=10000), param_grid_linear_svc, cv=5, scoring='f1_macro', n_jobs=-1)\n",
    "grid_linear_svc.fit(X_train_tfidf, y_train)\n",
    "\n",
    "# --- Predict ---\n",
    "y_pred_linear_svc = grid_linear_svc.predict(X_test_tfidf)\n",
    "\n",
    "# --- Print Metrics ---\n",
    "print(\"Best LinearSVC Params:\", grid_linear_svc.best_params_)\n",
    "print(\"Best Score based on Cross Validation(CV):\", grid_linear_svc.best_score_)\n",
    "print(\"Test Accuracy:\", accuracy_score(y_test, y_pred_linear_svc))\n",
    "print(\"Test Precision:\", precision_score(y_test, y_pred_linear_svc, average='macro'))\n",
    "print(\"Test Recall:\", recall_score(y_test, y_pred_linear_svc, average='macro'))\n",
    "print(\"Test F1 Score:\", f1_score(y_test, y_pred_linear_svc, average='macro'))\n",
    "\n",
    "\n"
   ]
  },
  {
   "cell_type": "markdown",
   "id": "c9e4b517",
   "metadata": {},
   "source": [
    "Step-5: Comparing All Tuned Models Using TF-IDF"
   ]
  },
  {
   "cell_type": "code",
   "execution_count": 35,
   "id": "7b918769",
   "metadata": {},
   "outputs": [
    {
     "name": "stdout",
     "output_type": "stream",
     "text": [
      "\n",
      " Final Model Comparison (TF-IDF):\n",
      "                              Accuracy  Precision  Recall  F1-Score\n",
      "Logistic Regression (TF-IDF)    0.7981     0.7988  0.7984    0.7983\n",
      "Naive Bayes (TF-IDF)            0.7811     0.7823  0.7812    0.7813\n",
      "Linear SVM (TF-IDF)             0.8013     0.8014  0.8016    0.8011\n"
     ]
    }
   ],
   "source": [
    "# Dictionary to store final comparison results\n",
    "comparison_results = {}\n",
    "\n",
    "# ---- Logistic Regression ----\n",
    "comparison_results['Logistic Regression (TF-IDF)'] = {\n",
    "    \"Accuracy\": accuracy_score(y_test, y_pred_lr),\n",
    "    \"Precision\": precision_score(y_test, y_pred_lr, average='macro'),\n",
    "    \"Recall\": recall_score(y_test, y_pred_lr, average='macro'),\n",
    "    \"F1-Score\": f1_score(y_test, y_pred_lr, average='macro')\n",
    "}\n",
    "\n",
    "# ---- Naive Bayes ----\n",
    "comparison_results['Naive Bayes (TF-IDF)'] = {\n",
    "    \"Accuracy\": accuracy_score(y_test, y_pred_nb),\n",
    "    \"Precision\": precision_score(y_test, y_pred_nb, average='macro'),\n",
    "    \"Recall\": recall_score(y_test, y_pred_nb, average='macro'),\n",
    "    \"F1-Score\": f1_score(y_test, y_pred_nb, average='macro')\n",
    "}\n",
    "\n",
    "# ---- LinearSVC ----\n",
    "comparison_results['Linear SVM (TF-IDF)'] = {\n",
    "    \"Accuracy\": accuracy_score(y_test, y_pred_linear_svc),\n",
    "    \"Precision\": precision_score(y_test, y_pred_linear_svc, average='macro'),\n",
    "    \"Recall\": recall_score(y_test, y_pred_linear_svc, average='macro'),\n",
    "    \"F1-Score\": f1_score(y_test, y_pred_linear_svc, average='macro')\n",
    "}\n",
    "\n",
    "# ---- Convert to DataFrame for nice display ----\n",
    "comparison_df = pd.DataFrame(comparison_results).T\n",
    "print(\"\\n Final Model Comparison (TF-IDF):\")\n",
    "print(comparison_df.round(4))\n"
   ]
  },
  {
   "cell_type": "markdown",
   "id": "c548ac44",
   "metadata": {},
   "source": [
    "Plot Comparison using visualization"
   ]
  },
  {
   "cell_type": "code",
   "execution_count": 36,
   "id": "dea7afa3",
   "metadata": {},
   "outputs": [
    {
     "name": "stderr",
     "output_type": "stream",
     "text": [
      "C:\\Users\\HP\\AppData\\Local\\Temp\\ipykernel_7388\\922904833.py:13: UserWarning: Glyph 128202 (\\N{BAR CHART}) missing from font(s) DejaVu Sans.\n",
      "  plt.tight_layout()\n",
      "c:\\Users\\HP\\anaconda3\\Lib\\site-packages\\IPython\\core\\pylabtools.py:170: UserWarning: Glyph 128202 (\\N{BAR CHART}) missing from font(s) DejaVu Sans.\n",
      "  fig.canvas.print_figure(bytes_io, **kw)\n"
     ]
    },
    {
     "data": {
      "image/png": "[encoded data removed]",
      "text/plain": [
       "<Figure size 1000x600 with 1 Axes>"
      ]
     },
     "metadata": {},
     "output_type": "display_data"
    }
   ],
   "source": [
    "import seaborn as sns\n",
    "import matplotlib.pyplot as plt\n",
    "\n",
    "plt.figure(figsize=(10,6))\n",
    "sns.barplot(data=comparison_df.reset_index().melt(id_vars='index'), \n",
    "            x='index', y='value', hue='variable', palette='pastel')\n",
    "plt.title(\"📊 Model Performance Comparison (TF-IDF)\")\n",
    "plt.ylabel(\"Score\")\n",
    "plt.xlabel(\"Model\")\n",
    "plt.ylim(0.75, 0.81)\n",
    "plt.xticks(rotation=15)\n",
    "plt.legend(title=\"Metric\")\n",
    "plt.tight_layout()\n",
    "plt.show()\n"
   ]
  },
  {
   "cell_type": "markdown",
   "id": "7975dae2",
   "metadata": {},
   "source": [
    "Conclusion: \n",
    "\n",
    "All models performed reasonably well.\n",
    "\n",
    "LinearSVC + TF-IDF provided the best generalization performance and fastest training time.\n",
    "\n",
    "This model was selected for final deployment due to its superior F1-Score and balanced precision/recall across all classes."
   ]
  },
  {
   "cell_type": "markdown",
   "id": "9dc950ed",
   "metadata": {},
   "source": [
    "Insights:\n",
    "\n",
    "\n",
    "In the Politics category, keywords like “election,” “government,” and “president” had the highest positive impact on classification.\n",
    "\n",
    "The Sports category was strongly influenced by words like “goal,” “match,” “score,” and “championship”.\n",
    "\n",
    "Wellness articles were driven by terms such as “yoga,” “meditation,” “health,” and “mental”.\n",
    "\n",
    "These keywords align well with real-world topic indicators, which validates the semantic relevance of the model."
   ]
  }
 ],
 "metadata": {
  "kernelspec": {
   "display_name": "base",
   "language": "python",
   "name": "python3"
  },
  "language_info": {
   "codemirror_mode": {
    "name": "ipython",
    "version": 3
   },
   "file_extension": ".py",
   "mimetype": "text/x-python",
   "name": "python",
   "nbconvert_exporter": "python",
   "pygments_lexer": "ipython3",
   "version": "3.12.7"
  }
 },
 "nbformat": 4,
 "nbformat_minor": 5
}
